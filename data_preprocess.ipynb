{
 "cells": [
  {
   "cell_type": "markdown",
   "id": "984c03f7-e65c-45c1-87df-820046de6345",
   "metadata": {},
   "source": [
    "<div id=\"custom-header\" style=\"padding: 15px; color: white; margin: 0; font-size: 28px; font-family: 'Times New Roman', Times, serif; text-align: center; display: fill; border-radius: 15px; background-color: #6D214F; overflow: hidden; box-shadow: 0 4px 8px rgba(0, 0, 0, 0.1);\">\n",
    "    <b> 🔮 Battery Data Dashboard Creation-Data Loading and Preprocessing</b>\n",
    "</div>"
   ]
  },
  {
   "cell_type": "markdown",
   "id": "31bc70b6-e9e6-460a-818d-10773788b6ab",
   "metadata": {},
   "source": [
    "<div style=\"border-radius: 10px; border: 2px solid black; padding: 15px; background-color: white; font-family: 'Times New Roman', Times, serif; font-size: 110%; text-align: left;\">\n",
    "\n",
    "<h3 align=\"left\"><font color=\"#6D214F\">📝 Project Overview</font></h3>   \n",
    "\n",
    "<p>This project involves the creation of a battery data dashboard utilizing Streamlit for data visualization, Flask for REST API endpoints, and SQLite for data storage. The project includes data preprocessing, unit test coverage, secure authentication, pagination, filtering, and API documentation.</p>\n",
    "\n",
    "\n",
    "<h3 align=\"left\"><font color=\"#6D214F\"> Purpose:</font></h3>\n",
    "\n",
    "<p>Key Components to achieve</p>\n",
    "\n",
    "<ul>\n",
    "  <li><b>1.Data Loading and Preprocessing</b></li>\n",
    "  <li><b>2.Database Integration with SQLite</b></li>\n",
    "  <li><b>3.REST API Development with Flask</b></li>\n",
    "  <li><b>4.Data Visualization with Streamlit and Plotly</b></li>\n",
    "  <li><b>5.Unit Testing and Test Coverage</b></li>\n",
    "  <li><b>6.Basic Authentication for API Endpoints</b></li>\n",
    "  <li><b>7.Pagination and Filtering in API Endpoints</b></li>\n",
    "  <li><b>8.OpenAPI Specification-based API Documentation</b></li>\n",
    "  <li><b>9.Deployment on Streamlit Cloud</b></li>\n",
    "</ul>\n",
    "\n",
    "<p>The project aims to provide a valuable tool for analyzing and visualizing battery performance data.\n",
    "\n",
    "</p>\n",
    "\n",
    "</div>"
   ]
  },
  {
   "cell_type": "markdown",
   "id": "89c9ff2c-1b63-4b33-9189-1692712269fc",
   "metadata": {},
   "source": [
    "<div id=\"custom-header\" style=\"padding: 0px; color: white; margin: 0; font-size: 22px; font-family: 'Times New Roman', Times, serif; text-align: center; display: fill; border-radius: 10px; background-color: #6D214F; overflow: hidden; box-shadow: 0 4px 8px rgba(0, 0, 0, 0.1);\">\n",
    "    <b>  Importing Libraries </b>\n",
    "</div>"
   ]
  },
  {
   "cell_type": "code",
   "execution_count": 1,
   "id": "1b013ff2-8871-46b5-aa13-8379e1eee127",
   "metadata": {},
   "outputs": [],
   "source": [
    "#Import necessary libraries\n",
    "import pandas as pd\n",
    "import numpy as np\n",
    "from datetime import datetime, time"
   ]
  },
  {
   "cell_type": "code",
   "execution_count": 2,
   "id": "95a8a5aa-ee8e-45ff-aa88-6e511840beb0",
   "metadata": {},
   "outputs": [],
   "source": [
    "#Set the maximum number of displayed columns for Pandas DataFrames to 'None' (display all columns)\n",
    "pd.set_option('display.max_columns', None)\n",
    "\n",
    "#Set the maximum number of displayed rows for Pandas DataFrames to 200\n",
    "pd.set_option('display.max_rows', 200)\n",
    "\n",
    "#Set the maximum column width to 'None' (display complete content)\n",
    "pd.set_option('display.max_colwidth', None)\n",
    "\n",
    "#Set the maximum width of the display in characters\n",
    "pd.set_option('display.width', 1000)"
   ]
  },
  {
   "cell_type": "markdown",
   "id": "cf60ca24-e431-4a99-a7b7-7d74540acb85",
   "metadata": {},
   "source": [
    "<div id=\"custom-header\" style=\"padding: 0px; color: white; margin: 0; font-size: 22px; font-family: 'Times New Roman', Times, serif; text-align: center; display: fill; border-radius: 10px; background-color: #6D214F; overflow: hidden; box-shadow: 0 4px 8px rgba(0, 0, 0, 0.1);\">\n",
    "    <b>  Loading Dataset </b>\n",
    "</div>"
   ]
  },
  {
   "cell_type": "code",
   "execution_count": 3,
   "id": "48fef8d2-2358-46a7-b85a-722b4f542c6b",
   "metadata": {},
   "outputs": [],
   "source": [
    "# Load the Excel files\n",
    "file_5308 = '5308.xls'\n",
    "file_5329 = '5329.xls'\n",
    "\n",
    "# Read the Excel file into a pandas DataFrame\n",
    "xls_5308 = pd.ExcelFile(file_5308)\n",
    "xls_5329 = pd.ExcelFile(file_5329)"
   ]
  },
  {
   "cell_type": "markdown",
   "id": "278c9cd3-d742-49a6-a811-642c11268301",
   "metadata": {},
   "source": [
    "<div id=\"custom-header\" style=\"padding: 0px; color: white; margin: 0; font-size: 22px; font-family: 'Times New Roman', Times, serif; text-align: center; display: fill; border-radius: 10px; background-color: #6D214F; overflow: hidden; box-shadow: 0 4px 8px rgba(0, 0, 0, 0.1);\">\n",
    "    <b>  Data Pre-Processing </b>\n",
    "</div>"
   ]
  },
  {
   "cell_type": "markdown",
   "id": "4c30ecc0-54c3-4384-92d5-cc93c71ea337",
   "metadata": {},
   "source": [
    "## <div style=\"text-align: left; background-color:#CFD9F1 ; font-family: Trebuchet MS,bold; color: #0A3399; padding: 10px; line-height:1;border-radius:2px; margin-bottom: 0em; text-align: center; font-size: 22px;border-style: solid;border-color: dark green;\"> Initial Inspection of Data</div>"
   ]
  },
  {
   "cell_type": "code",
   "execution_count": 4,
   "id": "c8ea7815-bd0e-4bef-8b30-89a5920f0aee",
   "metadata": {},
   "outputs": [
    {
     "name": "stdout",
     "output_type": "stream",
     "text": [
      "Sheets in 5308.xls: ['Info', 'Cycle_67_3_5', 'Statis_67_3_5', 'Detail_67_3_5', 'DetailVol_67_3_5', 'DetailTemp_67_3_5']\n",
      "Sheets in 5329.xls: ['Info', 'Cycle_67_3_1', 'Statis_67_3_1', 'Detail_67_3_1', 'DetailVol_67_3_1', 'DetailTemp_67_3_1']\n"
     ]
    }
   ],
   "source": [
    "# Display sheet names to understand the structure of the Excel file\n",
    "print(f\"Sheets in {file_5308}: {xls_5308.sheet_names}\")\n",
    "print(f\"Sheets in {file_5329}: {xls_5329.sheet_names}\")"
   ]
  },
  {
   "cell_type": "code",
   "execution_count": 5,
   "id": "5118d50f-4e07-4175-b812-7d4041aeb091",
   "metadata": {},
   "outputs": [],
   "source": [
    "# Load specific sheets based on the sheet names or indices\n",
    "sheet_5308_4 = xls_5308.parse(xls_5308.sheet_names[3])  # Load the 4th sheet \n",
    "sheet_5308_6 = xls_5308.parse(xls_5308.sheet_names[5])  # Load the 6th sheet \n",
    "\n",
    "sheet_5329_4 = xls_5329.parse(xls_5329.sheet_names[3])  # Load the 4th sheet \n",
    "sheet_5329_6 = xls_5329.parse(xls_5329.sheet_names[5])  # Load the 6th sheet "
   ]
  },
  {
   "cell_type": "code",
   "execution_count": 6,
   "id": "9533dc15-4f7c-408c-a97e-52718eb72229",
   "metadata": {
    "scrolled": true
   },
   "outputs": [
    {
     "name": "stdout",
     "output_type": "stream",
     "text": [
      "   Record Index Status  JumpTo  Cycle  Step  Cur(mA)  Voltage(V)  CapaCity(mAh)  Energy(mWh) Relative Time(h:min:s.ms)       Absolute Time\n",
      "0             1   Rest       1      1     1      0.0        3.59            0.0          0.0               0:00:00.000 2019-11-15 19:28:43\n",
      "1             2   Rest       1      1     1      0.0        3.59            0.0          0.0               0:00:01.000 2019-11-15 19:28:44\n",
      "2             3   Rest       1      1     1      0.0        3.59            0.0          0.0               0:00:02.000 2019-11-15 19:28:45\n",
      "3             4   Rest       1      1     1      0.0        3.59            0.0          0.0               0:00:03.000 2019-11-15 19:28:46\n",
      "4             5   Rest       1      1     1      0.0        3.59            0.0          0.0               0:00:04.000 2019-11-15 19:28:47\n",
      "   Record ID Step Name Relative Time(h:min:s.ms)            Realtime  Auxiliary channel TU1 T(°C)  Gap of Temperature\n",
      "0          1      Rest               0:00:00.000 2019-11-15 19:28:43                         37.4                   0\n",
      "1          2      Rest               0:00:01.000 2019-11-15 19:28:44                         37.4                   0\n",
      "2          3      Rest               0:00:02.000 2019-11-15 19:28:45                         37.4                   0\n",
      "3          4      Rest               0:00:03.000 2019-11-15 19:28:46                         37.4                   0\n",
      "4          5      Rest               0:00:04.000 2019-11-15 19:28:47                         37.3                   0\n"
     ]
    }
   ],
   "source": [
    "# Inspect the loaded sheets\n",
    "print(sheet_5308_4.head())\n",
    "print(sheet_5308_6.head())"
   ]
  },
  {
   "cell_type": "code",
   "execution_count": 7,
   "id": "b0e774f8-62bf-4ef1-8ccc-8f25ac029485",
   "metadata": {},
   "outputs": [
    {
     "name": "stdout",
     "output_type": "stream",
     "text": [
      "   Record Index Status  JumpTo  Cycle  Step  Cur(mA)  Voltage(V)  CapaCity(mAh)  Energy(mWh) Relative Time(h:min:s.ms)       Absolute Time\n",
      "0             1   Rest       1      1     1      0.0      3.5897            0.0          0.0               0:00:00.000 2019-11-15 19:38:18\n",
      "1             2   Rest       1      1     1      0.0      3.5897            0.0          0.0               0:00:01.000 2019-11-15 19:38:19\n",
      "2             3   Rest       1      1     1      0.0      3.5897            0.0          0.0               0:00:02.000 2019-11-15 19:38:20\n",
      "3             4   Rest       1      1     1      0.0      3.5897            0.0          0.0               0:00:03.000 2019-11-15 19:38:21\n",
      "4             5   Rest       1      1     1      0.0      3.5897            0.0          0.0               0:00:04.000 2019-11-15 19:38:22\n",
      "   Record ID Step Name Relative Time(h:min:s.ms)            Realtime  Auxiliary channel TU1 T(°C)  Gap of Temperature\n",
      "0          1      Rest               0:00:00.000 2019-11-15 19:38:18                         32.2                   0\n",
      "1          2      Rest               0:00:01.000 2019-11-15 19:38:19                         32.3                   0\n",
      "2          3      Rest               0:00:02.000 2019-11-15 19:38:20                         32.1                   0\n",
      "3          4      Rest               0:00:03.000 2019-11-15 19:38:21                         32.2                   0\n",
      "4          5      Rest               0:00:04.000 2019-11-15 19:38:22                         32.1                   0\n"
     ]
    }
   ],
   "source": [
    "print(sheet_5329_4.head())\n",
    "print(sheet_5329_6.head())"
   ]
  },
  {
   "cell_type": "code",
   "execution_count": 8,
   "id": "3e26a382-eb12-426d-a6c4-a402412bcef6",
   "metadata": {},
   "outputs": [
    {
     "name": "stdout",
     "output_type": "stream",
     "text": [
      "Shape of Cell_id 5329 sheet 4: (29602, 11)\n",
      "Shape of Cell_id 5329 sheet 6: (29602, 6)\n"
     ]
    }
   ],
   "source": [
    "print('Shape of Cell_id 5329 sheet 4:',sheet_5329_4.shape)\n",
    "print('Shape of Cell_id 5329 sheet 6:',sheet_5329_6.shape)"
   ]
  },
  {
   "cell_type": "code",
   "execution_count": 9,
   "id": "d498c50b-21d5-4292-9a5f-1ba1775b2740",
   "metadata": {},
   "outputs": [
    {
     "name": "stdout",
     "output_type": "stream",
     "text": [
      "Shape of Cell_id 5308 sheet 4: (29403, 11)\n",
      "Shape of Cell_id 5308 sheet 6: (29403, 6)\n"
     ]
    }
   ],
   "source": [
    "print('Shape of Cell_id 5308 sheet 4:',sheet_5308_4.shape)\n",
    "print('Shape of Cell_id 5308 sheet 6:',sheet_5308_6.shape)"
   ]
  },
  {
   "cell_type": "markdown",
   "id": "63757d2d-f95c-4173-a803-8f5c46af3af9",
   "metadata": {},
   "source": [
    "## <div style=\"text-align: left; background-color:#CFD9F1 ; font-family: Trebuchet MS,bold; color: #0A3399; padding: 10px; line-height:1;border-radius:2px; margin-bottom: 0em; text-align: center; font-size: 22px;border-style: solid;border-color: dark green;\"> Extracting Required Data</div>"
   ]
  },
  {
   "cell_type": "code",
   "execution_count": 10,
   "id": "105bbf57-4cc1-4040-bada-84a47323c9e5",
   "metadata": {},
   "outputs": [],
   "source": [
    "# Extract relevant columns for Cell 5308\n",
    "current_5308 = sheet_5308_4.iloc[:, 5]  # Column No: 6 \n",
    "voltage_5308 = sheet_5308_4.iloc[:, 6]  # Column No: 7 \n",
    "capacity_5308 = sheet_5308_4.iloc[:, 7]  # Column No: 8 \n",
    "time_5308 = sheet_5308_4.iloc[:, 10]  # Column No: 11 \n",
    "temperature_5308 = sheet_5308_6.iloc[:, 4]  # Column No: 5 \n",
    "\n",
    "# Create a DataFrame for Cell 5308\n",
    "data_5308 = {\n",
    "    'cell_id': ['5308'] * len(current_5308),\n",
    "    'current': current_5308,\n",
    "    'voltage': voltage_5308,\n",
    "    'capacity': capacity_5308,\n",
    "    'temperature': temperature_5308,\n",
    "    'time': time_5308\n",
    "}\n",
    "\n",
    "df_5308 = pd.DataFrame(data_5308)\n",
    "\n",
    "# Extract relevant columns for Cell 5329\n",
    "current_5329 = sheet_5329_4.iloc[:, 5]\n",
    "voltage_5329 = sheet_5329_4.iloc[:, 6]\n",
    "capacity_5329 = sheet_5329_4.iloc[:, 7]\n",
    "time_5329 = sheet_5329_4.iloc[:, 10]\n",
    "temperature_5329 = sheet_5329_6.iloc[:, 4]\n",
    "\n",
    "data_5329 = {\n",
    "    'cell_id': ['5329'] * len(current_5329),\n",
    "    'current': current_5329,\n",
    "    'voltage': voltage_5329,\n",
    "    'capacity': capacity_5329,\n",
    "    'temperature': temperature_5329,\n",
    "    'time': time_5329\n",
    "}\n",
    "\n",
    "df_5329 = pd.DataFrame(data_5329)\n"
   ]
  },
  {
   "cell_type": "markdown",
   "id": "8d8a99c7-61a3-4dbb-838c-2dfc150b11e7",
   "metadata": {},
   "source": [
    "## <div style=\"text-align: left; background-color:#CFD9F1 ; font-family: Trebuchet MS,bold; color: #0A3399; padding: 10px; line-height:1;border-radius:2px; margin-bottom: 0em; text-align: center; font-size: 22px;border-style: solid;border-color: dark green;\"> Inspection of Data-After Extraction</div>"
   ]
  },
  {
   "cell_type": "code",
   "execution_count": 11,
   "id": "ab09076f-61d8-4353-84bc-994a034366d8",
   "metadata": {},
   "outputs": [
    {
     "data": {
      "text/html": [
       "<div>\n",
       "<style scoped>\n",
       "    .dataframe tbody tr th:only-of-type {\n",
       "        vertical-align: middle;\n",
       "    }\n",
       "\n",
       "    .dataframe tbody tr th {\n",
       "        vertical-align: top;\n",
       "    }\n",
       "\n",
       "    .dataframe thead th {\n",
       "        text-align: right;\n",
       "    }\n",
       "</style>\n",
       "<table border=\"1\" class=\"dataframe\">\n",
       "  <thead>\n",
       "    <tr style=\"text-align: right;\">\n",
       "      <th></th>\n",
       "      <th>cell_id</th>\n",
       "      <th>current</th>\n",
       "      <th>voltage</th>\n",
       "      <th>capacity</th>\n",
       "      <th>temperature</th>\n",
       "      <th>time</th>\n",
       "    </tr>\n",
       "  </thead>\n",
       "  <tbody>\n",
       "    <tr>\n",
       "      <th>2413</th>\n",
       "      <td>5308</td>\n",
       "      <td>900.6</td>\n",
       "      <td>3.7512</td>\n",
       "      <td>450.740306</td>\n",
       "      <td>28.7</td>\n",
       "      <td>2019-11-15 20:08:51</td>\n",
       "    </tr>\n",
       "    <tr>\n",
       "      <th>19350</th>\n",
       "      <td>5308</td>\n",
       "      <td>-900.6</td>\n",
       "      <td>3.4737</td>\n",
       "      <td>2198.054667</td>\n",
       "      <td>27.9</td>\n",
       "      <td>2019-11-16 00:51:05</td>\n",
       "    </tr>\n",
       "    <tr>\n",
       "      <th>2248</th>\n",
       "      <td>5308</td>\n",
       "      <td>900.6</td>\n",
       "      <td>3.7406</td>\n",
       "      <td>409.478472</td>\n",
       "      <td>28.9</td>\n",
       "      <td>2019-11-15 20:06:06</td>\n",
       "    </tr>\n",
       "    <tr>\n",
       "      <th>28956</th>\n",
       "      <td>5308</td>\n",
       "      <td>0.0</td>\n",
       "      <td>3.5940</td>\n",
       "      <td>0.000000</td>\n",
       "      <td>27.9</td>\n",
       "      <td>2019-11-16 03:31:07</td>\n",
       "    </tr>\n",
       "    <tr>\n",
       "      <th>4499</th>\n",
       "      <td>5308</td>\n",
       "      <td>900.2</td>\n",
       "      <td>3.9025</td>\n",
       "      <td>972.904000</td>\n",
       "      <td>28.3</td>\n",
       "      <td>2019-11-15 20:43:37</td>\n",
       "    </tr>\n",
       "    <tr>\n",
       "      <th>21436</th>\n",
       "      <td>5308</td>\n",
       "      <td>-900.2</td>\n",
       "      <td>3.2812</td>\n",
       "      <td>2720.263111</td>\n",
       "      <td>28.8</td>\n",
       "      <td>2019-11-16 01:25:51</td>\n",
       "    </tr>\n",
       "    <tr>\n",
       "      <th>3014</th>\n",
       "      <td>5308</td>\n",
       "      <td>901.0</td>\n",
       "      <td>3.7930</td>\n",
       "      <td>601.150667</td>\n",
       "      <td>28.7</td>\n",
       "      <td>2019-11-15 20:18:52</td>\n",
       "    </tr>\n",
       "    <tr>\n",
       "      <th>27241</th>\n",
       "      <td>5308</td>\n",
       "      <td>274.9</td>\n",
       "      <td>3.6005</td>\n",
       "      <td>891.935444</td>\n",
       "      <td>28.1</td>\n",
       "      <td>2019-11-16 03:02:33</td>\n",
       "    </tr>\n",
       "    <tr>\n",
       "      <th>13275</th>\n",
       "      <td>5308</td>\n",
       "      <td>-900.2</td>\n",
       "      <td>3.8681</td>\n",
       "      <td>677.242444</td>\n",
       "      <td>28.1</td>\n",
       "      <td>2019-11-15 23:09:50</td>\n",
       "    </tr>\n",
       "    <tr>\n",
       "      <th>24306</th>\n",
       "      <td>5308</td>\n",
       "      <td>900.6</td>\n",
       "      <td>3.4858</td>\n",
       "      <td>295.200306</td>\n",
       "      <td>28.3</td>\n",
       "      <td>2019-11-16 02:13:38</td>\n",
       "    </tr>\n",
       "  </tbody>\n",
       "</table>\n",
       "</div>"
      ],
      "text/plain": [
       "      cell_id  current  voltage     capacity  temperature                time\n",
       "2413     5308    900.6   3.7512   450.740306         28.7 2019-11-15 20:08:51\n",
       "19350    5308   -900.6   3.4737  2198.054667         27.9 2019-11-16 00:51:05\n",
       "2248     5308    900.6   3.7406   409.478472         28.9 2019-11-15 20:06:06\n",
       "28956    5308      0.0   3.5940     0.000000         27.9 2019-11-16 03:31:07\n",
       "4499     5308    900.2   3.9025   972.904000         28.3 2019-11-15 20:43:37\n",
       "21436    5308   -900.2   3.2812  2720.263111         28.8 2019-11-16 01:25:51\n",
       "3014     5308    901.0   3.7930   601.150667         28.7 2019-11-15 20:18:52\n",
       "27241    5308    274.9   3.6005   891.935444         28.1 2019-11-16 03:02:33\n",
       "13275    5308   -900.2   3.8681   677.242444         28.1 2019-11-15 23:09:50\n",
       "24306    5308    900.6   3.4858   295.200306         28.3 2019-11-16 02:13:38"
      ]
     },
     "execution_count": 11,
     "metadata": {},
     "output_type": "execute_result"
    }
   ],
   "source": [
    "df_5308.sample(n=10)"
   ]
  },
  {
   "cell_type": "code",
   "execution_count": 12,
   "id": "963f7274-4265-49ad-8921-3a246d10dc1c",
   "metadata": {
    "scrolled": true
   },
   "outputs": [
    {
     "name": "stdout",
     "output_type": "stream",
     "text": [
      "<class 'pandas.core.frame.DataFrame'>\n",
      "RangeIndex: 29403 entries, 0 to 29402\n",
      "Data columns (total 6 columns):\n",
      " #   Column       Non-Null Count  Dtype         \n",
      "---  ------       --------------  -----         \n",
      " 0   cell_id      29403 non-null  object        \n",
      " 1   current      29403 non-null  float64       \n",
      " 2   voltage      29403 non-null  float64       \n",
      " 3   capacity     29403 non-null  float64       \n",
      " 4   temperature  29403 non-null  float64       \n",
      " 5   time         29403 non-null  datetime64[ns]\n",
      "dtypes: datetime64[ns](1), float64(4), object(1)\n",
      "memory usage: 1.3+ MB\n"
     ]
    }
   ],
   "source": [
    "df_5308.info()"
   ]
  },
  {
   "cell_type": "code",
   "execution_count": 13,
   "id": "a96e4ae9-79c1-472b-a374-b34a617771a1",
   "metadata": {
    "scrolled": true
   },
   "outputs": [
    {
     "data": {
      "text/html": [
       "<div>\n",
       "<style scoped>\n",
       "    .dataframe tbody tr th:only-of-type {\n",
       "        vertical-align: middle;\n",
       "    }\n",
       "\n",
       "    .dataframe tbody tr th {\n",
       "        vertical-align: top;\n",
       "    }\n",
       "\n",
       "    .dataframe thead th {\n",
       "        text-align: right;\n",
       "    }\n",
       "</style>\n",
       "<table border=\"1\" class=\"dataframe\">\n",
       "  <thead>\n",
       "    <tr style=\"text-align: right;\">\n",
       "      <th></th>\n",
       "      <th>current</th>\n",
       "      <th>voltage</th>\n",
       "      <th>capacity</th>\n",
       "      <th>temperature</th>\n",
       "      <th>time</th>\n",
       "    </tr>\n",
       "  </thead>\n",
       "  <tbody>\n",
       "    <tr>\n",
       "      <th>count</th>\n",
       "      <td>29403.000000</td>\n",
       "      <td>29403.000000</td>\n",
       "      <td>29403.000000</td>\n",
       "      <td>29403.000000</td>\n",
       "      <td>29403</td>\n",
       "    </tr>\n",
       "    <tr>\n",
       "      <th>mean</th>\n",
       "      <td>0.129715</td>\n",
       "      <td>3.726713</td>\n",
       "      <td>1092.063330</td>\n",
       "      <td>28.488851</td>\n",
       "      <td>2019-11-15 23:33:36.357548288</td>\n",
       "    </tr>\n",
       "    <tr>\n",
       "      <th>min</th>\n",
       "      <td>-901.400000</td>\n",
       "      <td>3.000000</td>\n",
       "      <td>0.000000</td>\n",
       "      <td>27.600000</td>\n",
       "      <td>2019-11-15 19:28:43</td>\n",
       "    </tr>\n",
       "    <tr>\n",
       "      <th>25%</th>\n",
       "      <td>-900.600000</td>\n",
       "      <td>3.555600</td>\n",
       "      <td>411.479583</td>\n",
       "      <td>28.000000</td>\n",
       "      <td>2019-11-15 21:31:08.500000</td>\n",
       "    </tr>\n",
       "    <tr>\n",
       "      <th>50%</th>\n",
       "      <td>102.300000</td>\n",
       "      <td>3.672800</td>\n",
       "      <td>933.525778</td>\n",
       "      <td>28.300000</td>\n",
       "      <td>2019-11-15 23:33:36</td>\n",
       "    </tr>\n",
       "    <tr>\n",
       "      <th>75%</th>\n",
       "      <td>900.600000</td>\n",
       "      <td>3.942800</td>\n",
       "      <td>1747.073500</td>\n",
       "      <td>28.600000</td>\n",
       "      <td>2019-11-16 01:36:06.500000</td>\n",
       "    </tr>\n",
       "    <tr>\n",
       "      <th>max</th>\n",
       "      <td>901.400000</td>\n",
       "      <td>4.201600</td>\n",
       "      <td>2992.507111</td>\n",
       "      <td>37.400000</td>\n",
       "      <td>2019-11-16 03:38:33</td>\n",
       "    </tr>\n",
       "    <tr>\n",
       "      <th>std</th>\n",
       "      <td>798.067159</td>\n",
       "      <td>0.273385</td>\n",
       "      <td>812.350158</td>\n",
       "      <td>1.159274</td>\n",
       "      <td>NaN</td>\n",
       "    </tr>\n",
       "  </tbody>\n",
       "</table>\n",
       "</div>"
      ],
      "text/plain": [
       "            current       voltage      capacity   temperature                           time\n",
       "count  29403.000000  29403.000000  29403.000000  29403.000000                          29403\n",
       "mean       0.129715      3.726713   1092.063330     28.488851  2019-11-15 23:33:36.357548288\n",
       "min     -901.400000      3.000000      0.000000     27.600000            2019-11-15 19:28:43\n",
       "25%     -900.600000      3.555600    411.479583     28.000000     2019-11-15 21:31:08.500000\n",
       "50%      102.300000      3.672800    933.525778     28.300000            2019-11-15 23:33:36\n",
       "75%      900.600000      3.942800   1747.073500     28.600000     2019-11-16 01:36:06.500000\n",
       "max      901.400000      4.201600   2992.507111     37.400000            2019-11-16 03:38:33\n",
       "std      798.067159      0.273385    812.350158      1.159274                            NaN"
      ]
     },
     "execution_count": 13,
     "metadata": {},
     "output_type": "execute_result"
    }
   ],
   "source": [
    "df_5308.describe()"
   ]
  },
  {
   "cell_type": "code",
   "execution_count": 14,
   "id": "a994a723-1280-4e29-b014-321546f19ba8",
   "metadata": {},
   "outputs": [
    {
     "data": {
      "text/html": [
       "<div>\n",
       "<style scoped>\n",
       "    .dataframe tbody tr th:only-of-type {\n",
       "        vertical-align: middle;\n",
       "    }\n",
       "\n",
       "    .dataframe tbody tr th {\n",
       "        vertical-align: top;\n",
       "    }\n",
       "\n",
       "    .dataframe thead th {\n",
       "        text-align: right;\n",
       "    }\n",
       "</style>\n",
       "<table border=\"1\" class=\"dataframe\">\n",
       "  <thead>\n",
       "    <tr style=\"text-align: right;\">\n",
       "      <th></th>\n",
       "      <th>cell_id</th>\n",
       "      <th>current</th>\n",
       "      <th>voltage</th>\n",
       "      <th>capacity</th>\n",
       "      <th>temperature</th>\n",
       "      <th>time</th>\n",
       "    </tr>\n",
       "  </thead>\n",
       "  <tbody>\n",
       "    <tr>\n",
       "      <th>9215</th>\n",
       "      <td>5329</td>\n",
       "      <td>210.9</td>\n",
       "      <td>4.2007</td>\n",
       "      <td>2013.443556</td>\n",
       "      <td>27.6</td>\n",
       "      <td>2019-11-15 22:11:47</td>\n",
       "    </tr>\n",
       "    <tr>\n",
       "      <th>163</th>\n",
       "      <td>5329</td>\n",
       "      <td>0.0</td>\n",
       "      <td>3.5897</td>\n",
       "      <td>0.000000</td>\n",
       "      <td>30.9</td>\n",
       "      <td>2019-11-15 19:40:56</td>\n",
       "    </tr>\n",
       "    <tr>\n",
       "      <th>2905</th>\n",
       "      <td>5329</td>\n",
       "      <td>901.0</td>\n",
       "      <td>3.7856</td>\n",
       "      <td>573.882111</td>\n",
       "      <td>28.0</td>\n",
       "      <td>2019-11-15 20:26:37</td>\n",
       "    </tr>\n",
       "    <tr>\n",
       "      <th>23474</th>\n",
       "      <td>5329</td>\n",
       "      <td>900.6</td>\n",
       "      <td>3.4080</td>\n",
       "      <td>55.285722</td>\n",
       "      <td>27.3</td>\n",
       "      <td>2019-11-16 02:09:21</td>\n",
       "    </tr>\n",
       "    <tr>\n",
       "      <th>21048</th>\n",
       "      <td>5329</td>\n",
       "      <td>-900.6</td>\n",
       "      <td>3.3441</td>\n",
       "      <td>2620.878889</td>\n",
       "      <td>27.7</td>\n",
       "      <td>2019-11-16 01:28:58</td>\n",
       "    </tr>\n",
       "    <tr>\n",
       "      <th>25228</th>\n",
       "      <td>5329</td>\n",
       "      <td>900.6</td>\n",
       "      <td>3.5435</td>\n",
       "      <td>494.016167</td>\n",
       "      <td>27.5</td>\n",
       "      <td>2019-11-16 02:38:35</td>\n",
       "    </tr>\n",
       "    <tr>\n",
       "      <th>22690</th>\n",
       "      <td>5329</td>\n",
       "      <td>0.0</td>\n",
       "      <td>3.2304</td>\n",
       "      <td>0.000000</td>\n",
       "      <td>28.3</td>\n",
       "      <td>2019-11-16 01:56:18</td>\n",
       "    </tr>\n",
       "    <tr>\n",
       "      <th>13288</th>\n",
       "      <td>5329</td>\n",
       "      <td>-900.6</td>\n",
       "      <td>3.8687</td>\n",
       "      <td>678.244500</td>\n",
       "      <td>27.1</td>\n",
       "      <td>2019-11-15 23:19:38</td>\n",
       "    </tr>\n",
       "    <tr>\n",
       "      <th>8045</th>\n",
       "      <td>5329</td>\n",
       "      <td>900.6</td>\n",
       "      <td>4.2004</td>\n",
       "      <td>1860.627222</td>\n",
       "      <td>27.9</td>\n",
       "      <td>2019-11-15 21:52:17</td>\n",
       "    </tr>\n",
       "    <tr>\n",
       "      <th>28165</th>\n",
       "      <td>5329</td>\n",
       "      <td>156.6</td>\n",
       "      <td>3.6008</td>\n",
       "      <td>953.157333</td>\n",
       "      <td>27.3</td>\n",
       "      <td>2019-11-16 03:27:32</td>\n",
       "    </tr>\n",
       "  </tbody>\n",
       "</table>\n",
       "</div>"
      ],
      "text/plain": [
       "      cell_id  current  voltage     capacity  temperature                time\n",
       "9215     5329    210.9   4.2007  2013.443556         27.6 2019-11-15 22:11:47\n",
       "163      5329      0.0   3.5897     0.000000         30.9 2019-11-15 19:40:56\n",
       "2905     5329    901.0   3.7856   573.882111         28.0 2019-11-15 20:26:37\n",
       "23474    5329    900.6   3.4080    55.285722         27.3 2019-11-16 02:09:21\n",
       "21048    5329   -900.6   3.3441  2620.878889         27.7 2019-11-16 01:28:58\n",
       "25228    5329    900.6   3.5435   494.016167         27.5 2019-11-16 02:38:35\n",
       "22690    5329      0.0   3.2304     0.000000         28.3 2019-11-16 01:56:18\n",
       "13288    5329   -900.6   3.8687   678.244500         27.1 2019-11-15 23:19:38\n",
       "8045     5329    900.6   4.2004  1860.627222         27.9 2019-11-15 21:52:17\n",
       "28165    5329    156.6   3.6008   953.157333         27.3 2019-11-16 03:27:32"
      ]
     },
     "execution_count": 14,
     "metadata": {},
     "output_type": "execute_result"
    }
   ],
   "source": [
    "df_5329.sample(n=10)"
   ]
  },
  {
   "cell_type": "code",
   "execution_count": 15,
   "id": "8619eb19-6e88-4107-8e6a-f665c53e56d4",
   "metadata": {},
   "outputs": [
    {
     "name": "stdout",
     "output_type": "stream",
     "text": [
      "<class 'pandas.core.frame.DataFrame'>\n",
      "RangeIndex: 29602 entries, 0 to 29601\n",
      "Data columns (total 6 columns):\n",
      " #   Column       Non-Null Count  Dtype         \n",
      "---  ------       --------------  -----         \n",
      " 0   cell_id      29602 non-null  object        \n",
      " 1   current      29602 non-null  float64       \n",
      " 2   voltage      29602 non-null  float64       \n",
      " 3   capacity     29602 non-null  float64       \n",
      " 4   temperature  29602 non-null  float64       \n",
      " 5   time         29602 non-null  datetime64[ns]\n",
      "dtypes: datetime64[ns](1), float64(4), object(1)\n",
      "memory usage: 1.4+ MB\n"
     ]
    }
   ],
   "source": [
    "df_5329.info()"
   ]
  },
  {
   "cell_type": "code",
   "execution_count": 16,
   "id": "691d477c-1196-4d75-8adc-f4d170e36463",
   "metadata": {
    "scrolled": true
   },
   "outputs": [
    {
     "data": {
      "text/html": [
       "<div>\n",
       "<style scoped>\n",
       "    .dataframe tbody tr th:only-of-type {\n",
       "        vertical-align: middle;\n",
       "    }\n",
       "\n",
       "    .dataframe tbody tr th {\n",
       "        vertical-align: top;\n",
       "    }\n",
       "\n",
       "    .dataframe thead th {\n",
       "        text-align: right;\n",
       "    }\n",
       "</style>\n",
       "<table border=\"1\" class=\"dataframe\">\n",
       "  <thead>\n",
       "    <tr style=\"text-align: right;\">\n",
       "      <th></th>\n",
       "      <th>current</th>\n",
       "      <th>voltage</th>\n",
       "      <th>capacity</th>\n",
       "      <th>temperature</th>\n",
       "      <th>time</th>\n",
       "    </tr>\n",
       "  </thead>\n",
       "  <tbody>\n",
       "    <tr>\n",
       "      <th>count</th>\n",
       "      <td>29602.000000</td>\n",
       "      <td>29602.000000</td>\n",
       "      <td>29602.000000</td>\n",
       "      <td>29602.000000</td>\n",
       "      <td>29602</td>\n",
       "    </tr>\n",
       "    <tr>\n",
       "      <th>mean</th>\n",
       "      <td>0.276515</td>\n",
       "      <td>3.725269</td>\n",
       "      <td>1101.484092</td>\n",
       "      <td>27.492399</td>\n",
       "      <td>2019-11-15 23:44:50.511924736</td>\n",
       "    </tr>\n",
       "    <tr>\n",
       "      <th>min</th>\n",
       "      <td>-901.000000</td>\n",
       "      <td>3.000000</td>\n",
       "      <td>0.000000</td>\n",
       "      <td>26.800000</td>\n",
       "      <td>2019-11-15 19:38:18</td>\n",
       "    </tr>\n",
       "    <tr>\n",
       "      <th>25%</th>\n",
       "      <td>-900.600000</td>\n",
       "      <td>3.550000</td>\n",
       "      <td>415.728118</td>\n",
       "      <td>27.200000</td>\n",
       "      <td>2019-11-15 21:41:32.249999872</td>\n",
       "    </tr>\n",
       "    <tr>\n",
       "      <th>50%</th>\n",
       "      <td>101.900000</td>\n",
       "      <td>3.671200</td>\n",
       "      <td>948.363278</td>\n",
       "      <td>27.400000</td>\n",
       "      <td>2019-11-15 23:44:50.500000</td>\n",
       "    </tr>\n",
       "    <tr>\n",
       "      <th>75%</th>\n",
       "      <td>900.600000</td>\n",
       "      <td>3.942200</td>\n",
       "      <td>1756.728944</td>\n",
       "      <td>27.700000</td>\n",
       "      <td>2019-11-16 01:48:10.750000128</td>\n",
       "    </tr>\n",
       "    <tr>\n",
       "      <th>max</th>\n",
       "      <td>901.400000</td>\n",
       "      <td>4.202300</td>\n",
       "      <td>3022.022667</td>\n",
       "      <td>32.300000</td>\n",
       "      <td>2019-11-16 03:51:27</td>\n",
       "    </tr>\n",
       "    <tr>\n",
       "      <th>std</th>\n",
       "      <td>799.716351</td>\n",
       "      <td>0.274474</td>\n",
       "      <td>819.081594</td>\n",
       "      <td>0.522431</td>\n",
       "      <td>NaN</td>\n",
       "    </tr>\n",
       "  </tbody>\n",
       "</table>\n",
       "</div>"
      ],
      "text/plain": [
       "            current       voltage      capacity   temperature                           time\n",
       "count  29602.000000  29602.000000  29602.000000  29602.000000                          29602\n",
       "mean       0.276515      3.725269   1101.484092     27.492399  2019-11-15 23:44:50.511924736\n",
       "min     -901.000000      3.000000      0.000000     26.800000            2019-11-15 19:38:18\n",
       "25%     -900.600000      3.550000    415.728118     27.200000  2019-11-15 21:41:32.249999872\n",
       "50%      101.900000      3.671200    948.363278     27.400000     2019-11-15 23:44:50.500000\n",
       "75%      900.600000      3.942200   1756.728944     27.700000  2019-11-16 01:48:10.750000128\n",
       "max      901.400000      4.202300   3022.022667     32.300000            2019-11-16 03:51:27\n",
       "std      799.716351      0.274474    819.081594      0.522431                            NaN"
      ]
     },
     "execution_count": 16,
     "metadata": {},
     "output_type": "execute_result"
    }
   ],
   "source": [
    "df_5329.describe()"
   ]
  },
  {
   "cell_type": "markdown",
   "id": "d72f916c-4d6a-4706-8fb3-91a7f323486a",
   "metadata": {},
   "source": [
    "<div style=\"border-radius:10px;border:#254E58 solid;padding: 15px;background-color:white;font-size:110%;text-align:left\">\n",
    "\n",
    "- From the Dataset based on the insights we found there is no need of any other preprocess further.\n",
    "- Now we can concatenate the dataframes of both cells."
   ]
  },
  {
   "cell_type": "markdown",
   "id": "9d0df905-7f7c-4604-9f74-3c564bdae5c8",
   "metadata": {},
   "source": [
    "## <div style=\"text-align: left; background-color:#CFD9F1 ; font-family: Trebuchet MS,bold; color: #0A3399; padding: 10px; line-height:1;border-radius:2px; margin-bottom: 0em; text-align: center; font-size: 22px;border-style: solid;border-color: dark green;\"> Concatenate Data</div>"
   ]
  },
  {
   "cell_type": "code",
   "execution_count": 17,
   "id": "a2fe0a07-70f0-4d7c-9933-4ce993b703ab",
   "metadata": {},
   "outputs": [
    {
     "name": "stdout",
     "output_type": "stream",
     "text": [
      "Shape of Combined Data Frame: (59005, 6)\n",
      "      cell_id  current  voltage     capacity  temperature                time\n",
      "21145    5308   -900.6   3.3212  2647.414222         28.7 2019-11-16 01:21:00\n",
      "27249    5308    273.0   3.6002   892.544333         28.1 2019-11-16 03:02:41\n",
      "23506    5329    901.0   3.4095    63.290861         27.6 2019-11-16 02:09:53\n",
      "11379    5329   -900.6   4.0401   200.640694         27.2 2019-11-15 22:47:49\n",
      "6234     5308    900.6   4.0314  1407.242889         28.4 2019-11-15 21:12:32\n",
      "753      5329    900.6   3.6489    35.525611         28.4 2019-11-15 19:50:45\n",
      "19340    5308   -900.6   3.4743  2195.551333         27.9 2019-11-16 00:50:55\n",
      "6255     5329    900.6   4.0327  1412.519444         27.7 2019-11-15 21:22:27\n",
      "2867     5308    900.6   3.7825   564.350778         28.8 2019-11-15 20:16:25\n",
      "14918    5308   -900.6   3.7465  1088.550222         28.0 2019-11-15 23:37:13\n",
      "10150    5329      0.0   4.1917     0.000000         27.2 2019-11-15 22:27:21\n",
      "13716    5308   -900.6   3.8349   787.642222         28.0 2019-11-15 23:17:11\n",
      "24672    5308    900.6   3.5184   386.726250         28.3 2019-11-16 02:19:44\n",
      "6845     5308    900.6   4.0910  1560.200444         28.4 2019-11-15 21:22:43\n",
      "1399     5308    901.0   3.6864   197.152778         29.4 2019-11-15 19:51:57\n",
      "4822     5329    900.6   3.9254  1053.783000         27.6 2019-11-15 20:58:34\n",
      "26467    5308    541.6   3.6002   808.253778         28.2 2019-11-16 02:49:39\n",
      "17522    5329   -900.6   3.5701  1738.182000         26.9 2019-11-16 00:30:12\n",
      "24266    5329    900.6   3.4570   253.433917         27.5 2019-11-16 02:22:33\n",
      "7703     5329    900.6   4.1713  1775.011111         27.9 2019-11-15 21:46:35\n"
     ]
    }
   ],
   "source": [
    "# Combine both DataFrames\n",
    "df_combined = pd.concat([df_5308, df_5329])\n",
    "\n",
    "# Display the combined DataFrame\n",
    "print('Shape of Combined Data Frame:',df_combined.shape)\n",
    "print(df_combined.sample(20))"
   ]
  },
  {
   "cell_type": "code",
   "execution_count": 18,
   "id": "7b257a25-383f-49de-8c8f-bd96c4ef019a",
   "metadata": {},
   "outputs": [],
   "source": [
    "df_combined.to_excel('combined_data.xlsx', index=False)"
   ]
  },
  {
   "cell_type": "code",
   "execution_count": 19,
   "id": "516408bd-1ff6-41ab-b951-287da21b50ef",
   "metadata": {},
   "outputs": [
    {
     "name": "stdout",
     "output_type": "stream",
     "text": [
      "State of Health for Cell 5308: 99.73%\n",
      "State of Health for Cell 5329: 94.09%\n"
     ]
    }
   ],
   "source": [
    "# The following data provided for SoH \n",
    "discharge_capacity_5308 = 2992.02\n",
    "nominal_capacity_5308 = 3000\n",
    "\n",
    "soh_5308 = round((discharge_capacity_5308 / nominal_capacity_5308) * 100, 2)\n",
    "print(f\"State of Health for Cell 5308: {soh_5308}%\")\n",
    "\n",
    "discharge_capacity_5329 = 2822.56\n",
    "nominal_capacity_5329 = 3000\n",
    "\n",
    "soh_5329 = round((discharge_capacity_5329 / nominal_capacity_5329) * 100, 2)\n",
    "print(f\"State of Health for Cell 5329: {soh_5329}%\")\n"
   ]
  },
  {
   "cell_type": "code",
   "execution_count": null,
   "id": "74ee0848-b88d-4591-bf75-a86101039fdb",
   "metadata": {},
   "outputs": [],
   "source": []
  }
 ],
 "metadata": {
  "kernelspec": {
   "display_name": "Python 3 (ipykernel)",
   "language": "python",
   "name": "python3"
  },
  "language_info": {
   "codemirror_mode": {
    "name": "ipython",
    "version": 3
   },
   "file_extension": ".py",
   "mimetype": "text/x-python",
   "name": "python",
   "nbconvert_exporter": "python",
   "pygments_lexer": "ipython3",
   "version": "3.11.4"
  }
 },
 "nbformat": 4,
 "nbformat_minor": 5
}
